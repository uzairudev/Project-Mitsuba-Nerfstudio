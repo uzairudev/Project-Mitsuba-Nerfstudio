{
 "cells": [
  {
   "cell_type": "code",
   "execution_count": 6,
   "metadata": {},
   "outputs": [
    {
     "name": "stdout",
     "output_type": "stream",
     "text": [
      "Rendered images saved to: rendered_images\n"
     ]
    }
   ],
   "source": [
    "import mitsuba as mi\n",
    "mi.variants()\n",
    "mi.set_variant(\"scalar_spectral\")\n",
    "scene = mi.load_file(\"lego/cbox.xml\")\n",
    "\n",
    "from mitsuba import ScalarTransform4f as T\n",
    "\n",
    "def load_sensor(r, phi, theta):\n",
    "    # Apply two rotations to convert from spherical coordinates to world 3D coordinates.\n",
    "    origin = T.translate([0, -1.2, 0]) @ T.rotate([0, 1, 0], phi).rotate([1, 0, 0], theta) @ mi.ScalarPoint3f([0, 0, r])\n",
    "\n",
    "    return mi.load_dict({\n",
    "        'type': 'perspective',\n",
    "        'fov': 39.37,\n",
    "        'to_world': T.look_at(\n",
    "            origin=origin,\n",
    "            target=[0, -3.7, 0],\n",
    "            up=[0, 1, 0]\n",
    "        ),\n",
    "        'sampler': {\n",
    "            'type': 'independent',\n",
    "        },\n",
    "        'film': {\n",
    "            'type': 'specfilm',\n",
    "            'width': 2000,\n",
    "            'height': 2000, \n",
    "            'band2': {\n",
    "                'type': 'spectrum',\n",
    "                'value': [(456.0, 0.01), (469.0, 0.22), (479.0, 0.45), (492.0, 0.22), (506.0, 0.01)]\n",
    "            }\n",
    "        },\n",
    "    })\n",
    "\n",
    "radius = 2\n",
    "phis = [20.0*(i+1) for i in range(10)]\n",
    "thetas = [20.0*(j+1) for j in range(10)]\n",
    "# thetas = [90]\n",
    "\n",
    "sensors = []\n",
    "for phi in phis:\n",
    "        for theta in thetas:\n",
    "            sensors.append(load_sensor(radius,theta,phi))\n",
    "sensor_count = len(sensors)\n",
    "\n",
    "images = [mi.render(scene, spp=512, sensor=sensor) for sensor in sensors]\n",
    "\n",
    "\n",
    "# Saving the rendered Images. \n",
    "import os\n",
    "folder_name = \"rendered_images\"\n",
    "# Create the folder if it doesn't exist\n",
    "os.makedirs(folder_name, exist_ok=True)\n",
    "# Save the rendered images with descriptive filenames\n",
    "for i, image in enumerate(images):\n",
    "    filename = f\"{folder_name}/view_{i+1:04d}.png\"\n",
    "    mi.util.write_bitmap(filename, image)\n",
    "print(f\"Rendered images saved to: {folder_name}\")\n"
   ]
  }
 ],
 "metadata": {
  "kernelspec": {
   "display_name": "Python 3",
   "language": "python",
   "name": "python3"
  },
  "language_info": {
   "codemirror_mode": {
    "name": "ipython",
    "version": 3
   },
   "file_extension": ".py",
   "mimetype": "text/x-python",
   "name": "python",
   "nbconvert_exporter": "python",
   "pygments_lexer": "ipython3",
   "version": "3.10.12"
  }
 },
 "nbformat": 4,
 "nbformat_minor": 2
}
