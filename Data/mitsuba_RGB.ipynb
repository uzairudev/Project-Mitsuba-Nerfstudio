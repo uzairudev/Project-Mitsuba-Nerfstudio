{
 "cells": [
  {
   "cell_type": "code",
   "execution_count": 91,
   "metadata": {},
   "outputs": [],
   "source": [
    "import mitsuba as mi\n",
    "mi.variants()\n",
    "mi.set_variant(\"cuda_ad_rgb\")\n",
    "scene = mi.load_file(\"lego/cbox.xml\")"
   ]
  },
  {
   "cell_type": "code",
   "execution_count": 92,
   "metadata": {},
   "outputs": [],
   "source": [
    "# image = mi.render(scene, spp=16)\n",
    "# import matplotlib.pyplot as plt\n",
    "# plt.axis(\"off\")\n",
    "# plt.imshow(image ** (1.0 / 2.2)); # approximate sRGB tonemapping"
   ]
  },
  {
   "cell_type": "code",
   "execution_count": 93,
   "metadata": {},
   "outputs": [],
   "source": [
    "from mitsuba import ScalarTransform4f as T\n",
    "def load_sensor(r, phi, theta):\n",
    "    # Apply two rotations to convert from spherical coordinates to world 3D coordinates.\n",
    "    # origin = T.rotate([0, 0, 1], phi).rotate([0, 1, 0], theta) @ mi.ScalarPoint3f([0, 4, r])\n",
    "    origin = T.translate([0, -1.2, 0]) @ T.rotate([0, 1, 0], phi).rotate([1, 0, 0], theta) @ mi.ScalarPoint3f([0, 0, r])\n",
    "\n",
    "    return mi.load_dict({\n",
    "        'type': 'perspective',\n",
    "        'fov': 39.37,\n",
    "        'to_world': T.look_at(\n",
    "            origin=origin,\n",
    "             target=[0, -3.7, 0],\n",
    "            up=[0, 1, 0]\n",
    "        ),\n",
    "        # 'sampler': {\n",
    "            # 'type': 'independent',\n",
    "            # 'sample_count': 64\n",
    "        # },\n",
    "        # 'film': {\n",
    "            # 'type': 'hdrfilm',\n",
    "            # 'width': 1920,\n",
    "            # 'height': 1080,\n",
    "            # 'rfilter': {\n",
    "                # 'type': 'tent',\n",
    "            # },\n",
    "            # 'pixel_format': 'rgb',\n",
    "        # },\n",
    "    })"
   ]
  },
  {
   "cell_type": "code",
   "execution_count": 94,
   "metadata": {},
   "outputs": [],
   "source": [
    "radius = 2\n",
    "phis = [20.0*(i+1) for i in range(10)]\n",
    "thetas = [20.0*(j+1) for j in range(10)]\n",
    "# thetas = [90]\n",
    "\n",
    "sensors = []\n",
    "for phi in phis:\n",
    "        for theta in thetas:\n",
    "            sensors.append(load_sensor(radius,theta,phi))\n",
    "sensor_count = len(sensors)"
   ]
  },
  {
   "cell_type": "code",
   "execution_count": 95,
   "metadata": {},
   "outputs": [],
   "source": [
    "# sensor_count = 90\n",
    "# radius = 3\n",
    "# phis = [20.0 * i for i in range(sensor_count)]\n",
    "# theta = 90.0\n",
    "# sensors = [load_sensor(radius, phi, theta) for phi in phis]"
   ]
  },
  {
   "cell_type": "code",
   "execution_count": 96,
   "metadata": {},
   "outputs": [],
   "source": [
    "images = [mi.render(scene, spp=512, sensor=sensor) for sensor in sensors]"
   ]
  },
  {
   "cell_type": "code",
   "execution_count": 97,
   "metadata": {},
   "outputs": [
    {
     "name": "stdout",
     "output_type": "stream",
     "text": [
      "Rendered images saved to: rendered_images\n"
     ]
    }
   ],
   "source": [
    "import os\n",
    "folder_name = \"rendered_images\"\n",
    "\n",
    "# Create the folder if it doesn't exist\n",
    "os.makedirs(folder_name, exist_ok=True)\n",
    "\n",
    "# Save the rendered images with descriptive filenames\n",
    "for i, image in enumerate(images):\n",
    "    filename = f\"{folder_name}/view_{i+1:04d}.png\"\n",
    "    mi.util.write_bitmap(filename, image)\n",
    "    \n",
    "print(f\"Rendered images saved to: {folder_name}\")"
   ]
  }
 ],
 "metadata": {
  "kernelspec": {
   "display_name": "Python 3",
   "language": "python",
   "name": "python3"
  },
  "language_info": {
   "codemirror_mode": {
    "name": "ipython",
    "version": 3
   },
   "file_extension": ".py",
   "mimetype": "text/x-python",
   "name": "python",
   "nbconvert_exporter": "python",
   "pygments_lexer": "ipython3",
   "version": "3.10.12"
  }
 },
 "nbformat": 4,
 "nbformat_minor": 2
}
